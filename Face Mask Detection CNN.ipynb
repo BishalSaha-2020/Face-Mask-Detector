{
 "cells": [
  {
   "cell_type": "code",
   "execution_count": 1,
   "id": "4ed5a697",
   "metadata": {},
   "outputs": [],
   "source": [
    "import os "
   ]
  },
  {
   "cell_type": "code",
   "execution_count": 2,
   "id": "025857c0",
   "metadata": {},
   "outputs": [
    {
     "name": "stderr",
     "output_type": "stream",
     "text": [
      "C:\\Users\\BISHAL SAHA\\AppData\\Local\\Programs\\Python\\Python37\\lib\\site-packages\\numpy\\_distributor_init.py:32: UserWarning: loaded more than 1 DLL from .libs:\n",
      "C:\\Users\\BISHAL SAHA\\AppData\\Local\\Programs\\Python\\Python37\\lib\\site-packages\\numpy\\.libs\\libopenblas.PYQHXLVVQ7VESDPUVUADXEVJOBGHJPAY.gfortran-win_amd64.dll\n",
      "C:\\Users\\BISHAL SAHA\\AppData\\Local\\Programs\\Python\\Python37\\lib\\site-packages\\numpy\\.libs\\libopenblas.WCDJNK7YVMPZQ2ME2ZZHJJRJ3JIKNDB7.gfortran-win_amd64.dll\n",
      "  stacklevel=1)\n"
     ]
    }
   ],
   "source": [
    "from keras.preprocessing import image"
   ]
  },
  {
   "cell_type": "code",
   "execution_count": 3,
   "id": "758c5831",
   "metadata": {},
   "outputs": [],
   "source": [
    "import cv2"
   ]
  },
  {
   "cell_type": "code",
   "execution_count": 4,
   "id": "e98d23b5",
   "metadata": {},
   "outputs": [],
   "source": [
    "categories=['with_mask','without_mask']"
   ]
  },
  {
   "cell_type": "code",
   "execution_count": 5,
   "id": "4d647bb2",
   "metadata": {},
   "outputs": [],
   "source": [
    "data=[]\n",
    "for category in categories:\n",
    "    path=os.path.join('data',category) #data/with_mask\n",
    "    \n",
    "    label=categories.index(category)\n",
    "    \n",
    "    for file in os.listdir(path): #accessing each image in provided directory\n",
    "        \n",
    "        img_path=os.path.join(path,file) #data/with_mask/with_mask_1.jpg\n",
    "        img=cv2.imread(img_path) #image in array in amtrix type,but random shape\n",
    "       \n",
    "        img=cv2.resize(img,(224,224)) #image in array matrix type,but 224,224,3 shape\n",
    "        \n",
    "        data.append([img,label])\n",
    "        \n",
    "        \n",
    "    "
   ]
  },
  {
   "cell_type": "code",
   "execution_count": 6,
   "id": "12852def",
   "metadata": {},
   "outputs": [
    {
     "data": {
      "text/plain": [
       "1949"
      ]
     },
     "execution_count": 6,
     "metadata": {},
     "output_type": "execute_result"
    }
   ],
   "source": [
    "len(data)"
   ]
  },
  {
   "cell_type": "code",
   "execution_count": 7,
   "id": "86f12e95",
   "metadata": {},
   "outputs": [],
   "source": [
    "import random"
   ]
  },
  {
   "cell_type": "code",
   "execution_count": 8,
   "id": "ef4d3bc5",
   "metadata": {},
   "outputs": [],
   "source": [
    "random.shuffle(data)"
   ]
  },
  {
   "cell_type": "code",
   "execution_count": 9,
   "id": "c09f3a14",
   "metadata": {},
   "outputs": [],
   "source": [
    "X=[]\n",
    "y=[]\n",
    "for features,label in data:\n",
    "    X.append(features)\n",
    "    y.append(label)"
   ]
  },
  {
   "cell_type": "code",
   "execution_count": 10,
   "id": "4507c85e",
   "metadata": {},
   "outputs": [],
   "source": [
    "import numpy as np"
   ]
  },
  {
   "cell_type": "code",
   "execution_count": 11,
   "id": "db661cb5",
   "metadata": {},
   "outputs": [],
   "source": [
    "X=np.array(X)\n",
    "y=np.array(y)"
   ]
  },
  {
   "cell_type": "code",
   "execution_count": 12,
   "id": "36ce5c19",
   "metadata": {},
   "outputs": [
    {
     "data": {
      "text/plain": [
       "(1949, 224, 224, 3)"
      ]
     },
     "execution_count": 12,
     "metadata": {},
     "output_type": "execute_result"
    }
   ],
   "source": [
    "X.shape"
   ]
  },
  {
   "cell_type": "code",
   "execution_count": 13,
   "id": "28f611c0",
   "metadata": {},
   "outputs": [
    {
     "data": {
      "text/plain": [
       "(1949,)"
      ]
     },
     "execution_count": 13,
     "metadata": {},
     "output_type": "execute_result"
    }
   ],
   "source": [
    "y.shape"
   ]
  },
  {
   "cell_type": "code",
   "execution_count": 14,
   "id": "6339483e",
   "metadata": {},
   "outputs": [
    {
     "data": {
      "text/plain": [
       "array([1, 0, 1, ..., 1, 0, 1])"
      ]
     },
     "execution_count": 14,
     "metadata": {},
     "output_type": "execute_result"
    }
   ],
   "source": [
    "y"
   ]
  },
  {
   "cell_type": "code",
   "execution_count": 15,
   "id": "f178565b",
   "metadata": {},
   "outputs": [],
   "source": [
    "X=X/255"
   ]
  },
  {
   "cell_type": "code",
   "execution_count": 16,
   "id": "6003d8dd",
   "metadata": {},
   "outputs": [
    {
     "data": {
      "text/plain": [
       "array([[[[0.01568627, 0.02352941, 0.02352941],\n",
       "         [0.01568627, 0.02352941, 0.02352941],\n",
       "         [0.01568627, 0.02352941, 0.02352941],\n",
       "         ...,\n",
       "         [0.08235294, 0.08235294, 0.14509804],\n",
       "         [0.08627451, 0.09019608, 0.16078431],\n",
       "         [0.09019608, 0.09803922, 0.16862745]],\n",
       "\n",
       "        [[0.01960784, 0.02745098, 0.02745098],\n",
       "         [0.01960784, 0.02745098, 0.02745098],\n",
       "         [0.01960784, 0.02745098, 0.02745098],\n",
       "         ...,\n",
       "         [0.08235294, 0.08235294, 0.14509804],\n",
       "         [0.08627451, 0.09019608, 0.15686275],\n",
       "         [0.09019608, 0.09803922, 0.16862745]],\n",
       "\n",
       "        [[0.02352941, 0.03137255, 0.03137255],\n",
       "         [0.02352941, 0.03137255, 0.03137255],\n",
       "         [0.02352941, 0.03137255, 0.03137255],\n",
       "         ...,\n",
       "         [0.08235294, 0.08235294, 0.14509804],\n",
       "         [0.08627451, 0.09019608, 0.16078431],\n",
       "         [0.09019608, 0.09803922, 0.16862745]],\n",
       "\n",
       "        ...,\n",
       "\n",
       "        [[0.5372549 , 0.56470588, 0.76078431],\n",
       "         [0.54117647, 0.56862745, 0.76470588],\n",
       "         [0.54509804, 0.57254902, 0.76862745],\n",
       "         ...,\n",
       "         [0.31764706, 0.38039216, 0.52941176],\n",
       "         [0.29019608, 0.34901961, 0.50196078],\n",
       "         [0.2745098 , 0.33333333, 0.48627451]],\n",
       "\n",
       "        [[0.5372549 , 0.56470588, 0.75686275],\n",
       "         [0.54117647, 0.56862745, 0.76078431],\n",
       "         [0.54509804, 0.57254902, 0.76470588],\n",
       "         ...,\n",
       "         [0.29411765, 0.35294118, 0.50588235],\n",
       "         [0.2627451 , 0.32156863, 0.4745098 ],\n",
       "         [0.24313725, 0.30196078, 0.45490196]],\n",
       "\n",
       "        [[0.5372549 , 0.56470588, 0.75686275],\n",
       "         [0.54117647, 0.56862745, 0.76078431],\n",
       "         [0.54509804, 0.57254902, 0.76470588],\n",
       "         ...,\n",
       "         [0.2745098 , 0.33333333, 0.49019608],\n",
       "         [0.24705882, 0.30588235, 0.45882353],\n",
       "         [0.22745098, 0.28627451, 0.43921569]]],\n",
       "\n",
       "\n",
       "       [[[1.        , 1.        , 1.        ],\n",
       "         [1.        , 1.        , 1.        ],\n",
       "         [1.        , 1.        , 1.        ],\n",
       "         ...,\n",
       "         [1.        , 1.        , 1.        ],\n",
       "         [1.        , 1.        , 1.        ],\n",
       "         [1.        , 1.        , 1.        ]],\n",
       "\n",
       "        [[1.        , 1.        , 1.        ],\n",
       "         [1.        , 1.        , 1.        ],\n",
       "         [1.        , 1.        , 1.        ],\n",
       "         ...,\n",
       "         [1.        , 1.        , 1.        ],\n",
       "         [1.        , 1.        , 1.        ],\n",
       "         [1.        , 1.        , 1.        ]],\n",
       "\n",
       "        [[1.        , 1.        , 1.        ],\n",
       "         [1.        , 1.        , 1.        ],\n",
       "         [1.        , 1.        , 1.        ],\n",
       "         ...,\n",
       "         [1.        , 1.        , 1.        ],\n",
       "         [1.        , 1.        , 1.        ],\n",
       "         [1.        , 1.        , 1.        ]],\n",
       "\n",
       "        ...,\n",
       "\n",
       "        [[1.        , 1.        , 1.        ],\n",
       "         [1.        , 1.        , 1.        ],\n",
       "         [1.        , 1.        , 1.        ],\n",
       "         ...,\n",
       "         [0.02352941, 0.02352941, 0.02352941],\n",
       "         [0.01176471, 0.01176471, 0.01176471],\n",
       "         [0.92156863, 0.92156863, 0.92156863]],\n",
       "\n",
       "        [[1.        , 1.        , 1.        ],\n",
       "         [1.        , 1.        , 1.        ],\n",
       "         [1.        , 1.        , 1.        ],\n",
       "         ...,\n",
       "         [0.85882353, 0.85882353, 0.85882353],\n",
       "         [0.85098039, 0.85098039, 0.85098039],\n",
       "         [0.99215686, 0.99215686, 0.99215686]],\n",
       "\n",
       "        [[1.        , 1.        , 1.        ],\n",
       "         [1.        , 1.        , 1.        ],\n",
       "         [1.        , 1.        , 1.        ],\n",
       "         ...,\n",
       "         [1.        , 1.        , 1.        ],\n",
       "         [0.99215686, 0.99215686, 0.99215686],\n",
       "         [1.        , 1.        , 1.        ]]],\n",
       "\n",
       "\n",
       "       [[[0.15686275, 0.16470588, 0.08627451],\n",
       "         [0.15686275, 0.16470588, 0.08627451],\n",
       "         [0.15686275, 0.16470588, 0.08627451],\n",
       "         ...,\n",
       "         [0.80392157, 0.76862745, 0.6745098 ],\n",
       "         [0.80392157, 0.77647059, 0.67843137],\n",
       "         [0.81176471, 0.78431373, 0.68627451]],\n",
       "\n",
       "        [[0.15686275, 0.16470588, 0.08627451],\n",
       "         [0.15686275, 0.16470588, 0.08627451],\n",
       "         [0.16078431, 0.16862745, 0.09019608],\n",
       "         ...,\n",
       "         [0.78823529, 0.74901961, 0.65490196],\n",
       "         [0.79215686, 0.76078431, 0.6627451 ],\n",
       "         [0.8       , 0.76862745, 0.67058824]],\n",
       "\n",
       "        [[0.16078431, 0.16862745, 0.09019608],\n",
       "         [0.16078431, 0.16862745, 0.09019608],\n",
       "         [0.16078431, 0.16862745, 0.09019608],\n",
       "         ...,\n",
       "         [0.76078431, 0.71372549, 0.61960784],\n",
       "         [0.77254902, 0.72941176, 0.63921569],\n",
       "         [0.78431373, 0.74117647, 0.65098039]],\n",
       "\n",
       "        ...,\n",
       "\n",
       "        [[0.09411765, 0.07843137, 0.03529412],\n",
       "         [0.09411765, 0.07843137, 0.03529412],\n",
       "         [0.09411765, 0.07843137, 0.03529412],\n",
       "         ...,\n",
       "         [0.40392157, 0.36470588, 0.29803922],\n",
       "         [0.43137255, 0.38823529, 0.32156863],\n",
       "         [0.45490196, 0.40392157, 0.34117647]],\n",
       "\n",
       "        [[0.09411765, 0.07843137, 0.03529412],\n",
       "         [0.09411765, 0.07843137, 0.03529412],\n",
       "         [0.09411765, 0.07843137, 0.03529412],\n",
       "         ...,\n",
       "         [0.4       , 0.36078431, 0.29411765],\n",
       "         [0.42745098, 0.38431373, 0.31764706],\n",
       "         [0.45098039, 0.4       , 0.3372549 ]],\n",
       "\n",
       "        [[0.09411765, 0.07843137, 0.03529412],\n",
       "         [0.09411765, 0.07843137, 0.03529412],\n",
       "         [0.09411765, 0.07843137, 0.03529412],\n",
       "         ...,\n",
       "         [0.4       , 0.36078431, 0.29411765],\n",
       "         [0.42352941, 0.38039216, 0.31372549],\n",
       "         [0.44705882, 0.39607843, 0.33333333]]],\n",
       "\n",
       "\n",
       "       ...,\n",
       "\n",
       "\n",
       "       [[[1.        , 1.        , 0.99607843],\n",
       "         [1.        , 0.99607843, 1.        ],\n",
       "         [1.        , 0.99607843, 1.        ],\n",
       "         ...,\n",
       "         [1.        , 1.        , 1.        ],\n",
       "         [1.        , 1.        , 1.        ],\n",
       "         [1.        , 1.        , 1.        ]],\n",
       "\n",
       "        [[1.        , 0.99607843, 1.        ],\n",
       "         [1.        , 0.99607843, 1.        ],\n",
       "         [1.        , 1.        , 1.        ],\n",
       "         ...,\n",
       "         [1.        , 1.        , 1.        ],\n",
       "         [1.        , 1.        , 1.        ],\n",
       "         [1.        , 1.        , 1.        ]],\n",
       "\n",
       "        [[1.        , 1.        , 0.98823529],\n",
       "         [1.        , 0.99607843, 0.99607843],\n",
       "         [1.        , 0.99607843, 1.        ],\n",
       "         ...,\n",
       "         [1.        , 1.        , 1.        ],\n",
       "         [1.        , 1.        , 1.        ],\n",
       "         [0.99607843, 0.99607843, 0.99607843]],\n",
       "\n",
       "        ...,\n",
       "\n",
       "        [[1.        , 1.        , 1.        ],\n",
       "         [1.        , 1.        , 1.        ],\n",
       "         [1.        , 1.        , 1.        ],\n",
       "         ...,\n",
       "         [0.32156863, 0.29803922, 0.10196078],\n",
       "         [0.32941176, 0.30196078, 0.10588235],\n",
       "         [0.31372549, 0.27843137, 0.08235294]],\n",
       "\n",
       "        [[1.        , 0.99607843, 1.        ],\n",
       "         [1.        , 1.        , 1.        ],\n",
       "         [1.        , 1.        , 1.        ],\n",
       "         ...,\n",
       "         [0.33333333, 0.29803922, 0.10196078],\n",
       "         [0.29019608, 0.25882353, 0.05882353],\n",
       "         [0.28235294, 0.24705882, 0.05098039]],\n",
       "\n",
       "        [[1.        , 0.99607843, 1.        ],\n",
       "         [0.99607843, 0.99607843, 0.99607843],\n",
       "         [1.        , 1.        , 1.        ],\n",
       "         ...,\n",
       "         [0.3254902 , 0.29019608, 0.09411765],\n",
       "         [0.32156863, 0.28627451, 0.09019608],\n",
       "         [0.31764706, 0.28235294, 0.08627451]]],\n",
       "\n",
       "\n",
       "       [[[0.96078431, 0.95686275, 0.96470588],\n",
       "         [0.96078431, 0.95686275, 0.96470588],\n",
       "         [0.96078431, 0.95686275, 0.96470588],\n",
       "         ...,\n",
       "         [0.9372549 , 0.9372549 , 0.96078431],\n",
       "         [0.9372549 , 0.9372549 , 0.96078431],\n",
       "         [0.9254902 , 0.92156863, 0.95686275]],\n",
       "\n",
       "        [[0.96078431, 0.95686275, 0.96470588],\n",
       "         [0.96078431, 0.95686275, 0.96470588],\n",
       "         [0.96078431, 0.95686275, 0.96470588],\n",
       "         ...,\n",
       "         [0.9372549 , 0.9372549 , 0.96078431],\n",
       "         [0.9372549 , 0.9372549 , 0.96078431],\n",
       "         [0.9254902 , 0.92156863, 0.95686275]],\n",
       "\n",
       "        [[0.96078431, 0.95686275, 0.96470588],\n",
       "         [0.96078431, 0.95686275, 0.96470588],\n",
       "         [0.96078431, 0.95686275, 0.96470588],\n",
       "         ...,\n",
       "         [0.9372549 , 0.9372549 , 0.96078431],\n",
       "         [0.9372549 , 0.9372549 , 0.96078431],\n",
       "         [0.9254902 , 0.92156863, 0.95686275]],\n",
       "\n",
       "        ...,\n",
       "\n",
       "        [[0.1372549 , 0.09803922, 0.09803922],\n",
       "         [0.13333333, 0.09411765, 0.09411765],\n",
       "         [0.13333333, 0.09411765, 0.09411765],\n",
       "         ...,\n",
       "         [0.15686275, 0.12156863, 0.10980392],\n",
       "         [0.16470588, 0.12941176, 0.11764706],\n",
       "         [0.15294118, 0.11372549, 0.11372549]],\n",
       "\n",
       "        [[0.13333333, 0.09411765, 0.09411765],\n",
       "         [0.13333333, 0.09411765, 0.09411765],\n",
       "         [0.12941176, 0.09019608, 0.09019608],\n",
       "         ...,\n",
       "         [0.15686275, 0.12156863, 0.10980392],\n",
       "         [0.16470588, 0.12941176, 0.11764706],\n",
       "         [0.15294118, 0.11372549, 0.11372549]],\n",
       "\n",
       "        [[0.13333333, 0.09411765, 0.09411765],\n",
       "         [0.13333333, 0.09411765, 0.09411765],\n",
       "         [0.13333333, 0.09411765, 0.09411765],\n",
       "         ...,\n",
       "         [0.15686275, 0.12156863, 0.10980392],\n",
       "         [0.15686275, 0.12156863, 0.10980392],\n",
       "         [0.15294118, 0.11764706, 0.10588235]]],\n",
       "\n",
       "\n",
       "       [[[0.05098039, 0.02745098, 0.03137255],\n",
       "         [0.05098039, 0.02745098, 0.03137255],\n",
       "         [0.0627451 , 0.03921569, 0.04313725],\n",
       "         ...,\n",
       "         [0.05882353, 0.08627451, 0.06666667],\n",
       "         [0.05882353, 0.08627451, 0.06666667],\n",
       "         [0.05490196, 0.08235294, 0.0627451 ]],\n",
       "\n",
       "        [[0.07058824, 0.04705882, 0.05098039],\n",
       "         [0.07058824, 0.04705882, 0.05098039],\n",
       "         [0.06666667, 0.04313725, 0.04705882],\n",
       "         ...,\n",
       "         [0.0627451 , 0.09019608, 0.07058824],\n",
       "         [0.0627451 , 0.09019608, 0.07058824],\n",
       "         [0.05882353, 0.08627451, 0.06666667]],\n",
       "\n",
       "        [[0.04705882, 0.02352941, 0.02745098],\n",
       "         [0.0627451 , 0.03921569, 0.04313725],\n",
       "         [0.07058824, 0.04705882, 0.05098039],\n",
       "         ...,\n",
       "         [0.06666667, 0.09411765, 0.0745098 ],\n",
       "         [0.0627451 , 0.09019608, 0.07058824],\n",
       "         [0.0627451 , 0.09019608, 0.07058824]],\n",
       "\n",
       "        ...,\n",
       "\n",
       "        [[0.        , 0.        , 0.01960784],\n",
       "         [0.        , 0.        , 0.03137255],\n",
       "         [0.        , 0.        , 0.03137255],\n",
       "         ...,\n",
       "         [0.        , 0.        , 0.05098039],\n",
       "         [0.00392157, 0.00392157, 0.05882353],\n",
       "         [0.00784314, 0.00784314, 0.0627451 ]],\n",
       "\n",
       "        [[0.        , 0.        , 0.03137255],\n",
       "         [0.        , 0.        , 0.03137255],\n",
       "         [0.00392157, 0.        , 0.03921569],\n",
       "         ...,\n",
       "         [0.        , 0.        , 0.02745098],\n",
       "         [0.        , 0.        , 0.03921569],\n",
       "         [0.        , 0.00392157, 0.04313725]],\n",
       "\n",
       "        [[0.00392157, 0.        , 0.03529412],\n",
       "         [0.00392157, 0.        , 0.03921569],\n",
       "         [0.00784314, 0.00392157, 0.04313725],\n",
       "         ...,\n",
       "         [0.00392157, 0.        , 0.00784314],\n",
       "         [0.        , 0.        , 0.01568627],\n",
       "         [0.        , 0.00392157, 0.01960784]]]])"
      ]
     },
     "execution_count": 16,
     "metadata": {},
     "output_type": "execute_result"
    }
   ],
   "source": [
    "X"
   ]
  },
  {
   "cell_type": "code",
   "execution_count": 17,
   "id": "d38f9870",
   "metadata": {},
   "outputs": [],
   "source": [
    "from sklearn.model_selection import train_test_split\n",
    "X_train,X_test,y_train,y_test=train_test_split(X,y,test_size=0.2)"
   ]
  },
  {
   "cell_type": "code",
   "execution_count": 18,
   "id": "5193d9d0",
   "metadata": {},
   "outputs": [
    {
     "data": {
      "text/plain": [
       "(1559, 224, 224, 3)"
      ]
     },
     "execution_count": 18,
     "metadata": {},
     "output_type": "execute_result"
    }
   ],
   "source": [
    "X_train.shape"
   ]
  },
  {
   "cell_type": "code",
   "execution_count": 19,
   "id": "1c572ab8",
   "metadata": {},
   "outputs": [],
   "source": [
    "from keras.applications.vgg16 import VGG16"
   ]
  },
  {
   "cell_type": "code",
   "execution_count": 20,
   "id": "b8ace2b9",
   "metadata": {},
   "outputs": [],
   "source": [
    "vgg=VGG16()"
   ]
  },
  {
   "cell_type": "code",
   "execution_count": 21,
   "id": "c4ae3f2b",
   "metadata": {},
   "outputs": [
    {
     "name": "stdout",
     "output_type": "stream",
     "text": [
      "Model: \"vgg16\"\n",
      "_________________________________________________________________\n",
      " Layer (type)                Output Shape              Param #   \n",
      "=================================================================\n",
      " input_1 (InputLayer)        [(None, 224, 224, 3)]     0         \n",
      "                                                                 \n",
      " block1_conv1 (Conv2D)       (None, 224, 224, 64)      1792      \n",
      "                                                                 \n",
      " block1_conv2 (Conv2D)       (None, 224, 224, 64)      36928     \n",
      "                                                                 \n",
      " block1_pool (MaxPooling2D)  (None, 112, 112, 64)      0         \n",
      "                                                                 \n",
      " block2_conv1 (Conv2D)       (None, 112, 112, 128)     73856     \n",
      "                                                                 \n",
      " block2_conv2 (Conv2D)       (None, 112, 112, 128)     147584    \n",
      "                                                                 \n",
      " block2_pool (MaxPooling2D)  (None, 56, 56, 128)       0         \n",
      "                                                                 \n",
      " block3_conv1 (Conv2D)       (None, 56, 56, 256)       295168    \n",
      "                                                                 \n",
      " block3_conv2 (Conv2D)       (None, 56, 56, 256)       590080    \n",
      "                                                                 \n",
      " block3_conv3 (Conv2D)       (None, 56, 56, 256)       590080    \n",
      "                                                                 \n",
      " block3_pool (MaxPooling2D)  (None, 28, 28, 256)       0         \n",
      "                                                                 \n",
      " block4_conv1 (Conv2D)       (None, 28, 28, 512)       1180160   \n",
      "                                                                 \n",
      " block4_conv2 (Conv2D)       (None, 28, 28, 512)       2359808   \n",
      "                                                                 \n",
      " block4_conv3 (Conv2D)       (None, 28, 28, 512)       2359808   \n",
      "                                                                 \n",
      " block4_pool (MaxPooling2D)  (None, 14, 14, 512)       0         \n",
      "                                                                 \n",
      " block5_conv1 (Conv2D)       (None, 14, 14, 512)       2359808   \n",
      "                                                                 \n",
      " block5_conv2 (Conv2D)       (None, 14, 14, 512)       2359808   \n",
      "                                                                 \n",
      " block5_conv3 (Conv2D)       (None, 14, 14, 512)       2359808   \n",
      "                                                                 \n",
      " block5_pool (MaxPooling2D)  (None, 7, 7, 512)         0         \n",
      "                                                                 \n",
      " flatten (Flatten)           (None, 25088)             0         \n",
      "                                                                 \n",
      " fc1 (Dense)                 (None, 4096)              102764544 \n",
      "                                                                 \n",
      " fc2 (Dense)                 (None, 4096)              16781312  \n",
      "                                                                 \n",
      " predictions (Dense)         (None, 1000)              4097000   \n",
      "                                                                 \n",
      "=================================================================\n",
      "Total params: 138,357,544\n",
      "Trainable params: 138,357,544\n",
      "Non-trainable params: 0\n",
      "_________________________________________________________________\n"
     ]
    }
   ],
   "source": [
    "vgg.summary()"
   ]
  },
  {
   "cell_type": "code",
   "execution_count": 22,
   "id": "8ec6eb99",
   "metadata": {},
   "outputs": [],
   "source": [
    "from keras import Sequential"
   ]
  },
  {
   "cell_type": "code",
   "execution_count": 23,
   "id": "b7ce9102",
   "metadata": {},
   "outputs": [],
   "source": [
    "model=Sequential()"
   ]
  },
  {
   "cell_type": "code",
   "execution_count": 24,
   "id": "34ab2e85",
   "metadata": {},
   "outputs": [],
   "source": [
    "for layer in vgg.layers[:-1]:\n",
    "    model.add(layer)"
   ]
  },
  {
   "cell_type": "code",
   "execution_count": 25,
   "id": "7f697bdf",
   "metadata": {},
   "outputs": [
    {
     "name": "stdout",
     "output_type": "stream",
     "text": [
      "Model: \"sequential\"\n",
      "_________________________________________________________________\n",
      " Layer (type)                Output Shape              Param #   \n",
      "=================================================================\n",
      " block1_conv1 (Conv2D)       (None, 224, 224, 64)      1792      \n",
      "                                                                 \n",
      " block1_conv2 (Conv2D)       (None, 224, 224, 64)      36928     \n",
      "                                                                 \n",
      " block1_pool (MaxPooling2D)  (None, 112, 112, 64)      0         \n",
      "                                                                 \n",
      " block2_conv1 (Conv2D)       (None, 112, 112, 128)     73856     \n",
      "                                                                 \n",
      " block2_conv2 (Conv2D)       (None, 112, 112, 128)     147584    \n",
      "                                                                 \n",
      " block2_pool (MaxPooling2D)  (None, 56, 56, 128)       0         \n",
      "                                                                 \n",
      " block3_conv1 (Conv2D)       (None, 56, 56, 256)       295168    \n",
      "                                                                 \n",
      " block3_conv2 (Conv2D)       (None, 56, 56, 256)       590080    \n",
      "                                                                 \n",
      " block3_conv3 (Conv2D)       (None, 56, 56, 256)       590080    \n",
      "                                                                 \n",
      " block3_pool (MaxPooling2D)  (None, 28, 28, 256)       0         \n",
      "                                                                 \n",
      " block4_conv1 (Conv2D)       (None, 28, 28, 512)       1180160   \n",
      "                                                                 \n",
      " block4_conv2 (Conv2D)       (None, 28, 28, 512)       2359808   \n",
      "                                                                 \n",
      " block4_conv3 (Conv2D)       (None, 28, 28, 512)       2359808   \n",
      "                                                                 \n",
      " block4_pool (MaxPooling2D)  (None, 14, 14, 512)       0         \n",
      "                                                                 \n",
      " block5_conv1 (Conv2D)       (None, 14, 14, 512)       2359808   \n",
      "                                                                 \n",
      " block5_conv2 (Conv2D)       (None, 14, 14, 512)       2359808   \n",
      "                                                                 \n",
      " block5_conv3 (Conv2D)       (None, 14, 14, 512)       2359808   \n",
      "                                                                 \n",
      " block5_pool (MaxPooling2D)  (None, 7, 7, 512)         0         \n",
      "                                                                 \n",
      " flatten (Flatten)           (None, 25088)             0         \n",
      "                                                                 \n",
      " fc1 (Dense)                 (None, 4096)              102764544 \n",
      "                                                                 \n",
      " fc2 (Dense)                 (None, 4096)              16781312  \n",
      "                                                                 \n",
      "=================================================================\n",
      "Total params: 134,260,544\n",
      "Trainable params: 134,260,544\n",
      "Non-trainable params: 0\n",
      "_________________________________________________________________\n"
     ]
    }
   ],
   "source": [
    "model.summary()"
   ]
  },
  {
   "cell_type": "code",
   "execution_count": 26,
   "id": "85871c98",
   "metadata": {},
   "outputs": [],
   "source": [
    "for layer in model.layers:\n",
    "    layer.trainable=False"
   ]
  },
  {
   "cell_type": "code",
   "execution_count": 27,
   "id": "698e7ac7",
   "metadata": {},
   "outputs": [
    {
     "name": "stdout",
     "output_type": "stream",
     "text": [
      "Model: \"sequential\"\n",
      "_________________________________________________________________\n",
      " Layer (type)                Output Shape              Param #   \n",
      "=================================================================\n",
      " block1_conv1 (Conv2D)       (None, 224, 224, 64)      1792      \n",
      "                                                                 \n",
      " block1_conv2 (Conv2D)       (None, 224, 224, 64)      36928     \n",
      "                                                                 \n",
      " block1_pool (MaxPooling2D)  (None, 112, 112, 64)      0         \n",
      "                                                                 \n",
      " block2_conv1 (Conv2D)       (None, 112, 112, 128)     73856     \n",
      "                                                                 \n",
      " block2_conv2 (Conv2D)       (None, 112, 112, 128)     147584    \n",
      "                                                                 \n",
      " block2_pool (MaxPooling2D)  (None, 56, 56, 128)       0         \n",
      "                                                                 \n",
      " block3_conv1 (Conv2D)       (None, 56, 56, 256)       295168    \n",
      "                                                                 \n",
      " block3_conv2 (Conv2D)       (None, 56, 56, 256)       590080    \n",
      "                                                                 \n",
      " block3_conv3 (Conv2D)       (None, 56, 56, 256)       590080    \n",
      "                                                                 \n",
      " block3_pool (MaxPooling2D)  (None, 28, 28, 256)       0         \n",
      "                                                                 \n",
      " block4_conv1 (Conv2D)       (None, 28, 28, 512)       1180160   \n",
      "                                                                 \n",
      " block4_conv2 (Conv2D)       (None, 28, 28, 512)       2359808   \n",
      "                                                                 \n",
      " block4_conv3 (Conv2D)       (None, 28, 28, 512)       2359808   \n",
      "                                                                 \n",
      " block4_pool (MaxPooling2D)  (None, 14, 14, 512)       0         \n",
      "                                                                 \n",
      " block5_conv1 (Conv2D)       (None, 14, 14, 512)       2359808   \n",
      "                                                                 \n",
      " block5_conv2 (Conv2D)       (None, 14, 14, 512)       2359808   \n",
      "                                                                 \n",
      " block5_conv3 (Conv2D)       (None, 14, 14, 512)       2359808   \n",
      "                                                                 \n",
      " block5_pool (MaxPooling2D)  (None, 7, 7, 512)         0         \n",
      "                                                                 \n",
      " flatten (Flatten)           (None, 25088)             0         \n",
      "                                                                 \n",
      " fc1 (Dense)                 (None, 4096)              102764544 \n",
      "                                                                 \n",
      " fc2 (Dense)                 (None, 4096)              16781312  \n",
      "                                                                 \n",
      "=================================================================\n",
      "Total params: 134,260,544\n",
      "Trainable params: 0\n",
      "Non-trainable params: 134,260,544\n",
      "_________________________________________________________________\n"
     ]
    }
   ],
   "source": [
    "model.summary()"
   ]
  },
  {
   "cell_type": "code",
   "execution_count": 28,
   "id": "6688db53",
   "metadata": {},
   "outputs": [],
   "source": [
    "from keras.layers import Dense"
   ]
  },
  {
   "cell_type": "code",
   "execution_count": 29,
   "id": "a2d4b946",
   "metadata": {},
   "outputs": [],
   "source": [
    "model.add(Dense(1,activation='sigmoid'))"
   ]
  },
  {
   "cell_type": "code",
   "execution_count": 30,
   "id": "b9e3d93c",
   "metadata": {},
   "outputs": [
    {
     "name": "stdout",
     "output_type": "stream",
     "text": [
      "Model: \"sequential\"\n",
      "_________________________________________________________________\n",
      " Layer (type)                Output Shape              Param #   \n",
      "=================================================================\n",
      " block1_conv1 (Conv2D)       (None, 224, 224, 64)      1792      \n",
      "                                                                 \n",
      " block1_conv2 (Conv2D)       (None, 224, 224, 64)      36928     \n",
      "                                                                 \n",
      " block1_pool (MaxPooling2D)  (None, 112, 112, 64)      0         \n",
      "                                                                 \n",
      " block2_conv1 (Conv2D)       (None, 112, 112, 128)     73856     \n",
      "                                                                 \n",
      " block2_conv2 (Conv2D)       (None, 112, 112, 128)     147584    \n",
      "                                                                 \n",
      " block2_pool (MaxPooling2D)  (None, 56, 56, 128)       0         \n",
      "                                                                 \n",
      " block3_conv1 (Conv2D)       (None, 56, 56, 256)       295168    \n",
      "                                                                 \n",
      " block3_conv2 (Conv2D)       (None, 56, 56, 256)       590080    \n",
      "                                                                 \n",
      " block3_conv3 (Conv2D)       (None, 56, 56, 256)       590080    \n",
      "                                                                 \n",
      " block3_pool (MaxPooling2D)  (None, 28, 28, 256)       0         \n",
      "                                                                 \n",
      " block4_conv1 (Conv2D)       (None, 28, 28, 512)       1180160   \n",
      "                                                                 \n",
      " block4_conv2 (Conv2D)       (None, 28, 28, 512)       2359808   \n",
      "                                                                 \n",
      " block4_conv3 (Conv2D)       (None, 28, 28, 512)       2359808   \n",
      "                                                                 \n",
      " block4_pool (MaxPooling2D)  (None, 14, 14, 512)       0         \n",
      "                                                                 \n",
      " block5_conv1 (Conv2D)       (None, 14, 14, 512)       2359808   \n",
      "                                                                 \n",
      " block5_conv2 (Conv2D)       (None, 14, 14, 512)       2359808   \n",
      "                                                                 \n",
      " block5_conv3 (Conv2D)       (None, 14, 14, 512)       2359808   \n",
      "                                                                 \n",
      " block5_pool (MaxPooling2D)  (None, 7, 7, 512)         0         \n",
      "                                                                 \n",
      " flatten (Flatten)           (None, 25088)             0         \n",
      "                                                                 \n",
      " fc1 (Dense)                 (None, 4096)              102764544 \n",
      "                                                                 \n",
      " fc2 (Dense)                 (None, 4096)              16781312  \n",
      "                                                                 \n",
      " dense (Dense)               (None, 1)                 4097      \n",
      "                                                                 \n",
      "=================================================================\n",
      "Total params: 134,264,641\n",
      "Trainable params: 4,097\n",
      "Non-trainable params: 134,260,544\n",
      "_________________________________________________________________\n"
     ]
    }
   ],
   "source": [
    "model.summary()"
   ]
  },
  {
   "cell_type": "code",
   "execution_count": 31,
   "id": "8ece7d5c",
   "metadata": {},
   "outputs": [],
   "source": [
    "model.compile(optimizer='Adam',loss='binary_crossentropy',metrics=['accuracy'])"
   ]
  },
  {
   "cell_type": "code",
   "execution_count": 32,
   "id": "a296da7d",
   "metadata": {},
   "outputs": [
    {
     "name": "stdout",
     "output_type": "stream",
     "text": [
      "Epoch 1/5\n",
      "WARNING:tensorflow:AutoGraph could not transform <function Model.make_train_function.<locals>.train_function at 0x000001ABCFCB3438> and will run it as-is.\n",
      "Please report this to the TensorFlow team. When filing the bug, set the verbosity to 10 (on Linux, `export AUTOGRAPH_VERBOSITY=10`) and attach the full output.\n",
      "Cause: 'arguments' object has no attribute 'posonlyargs'\n",
      "To silence this warning, decorate the function with @tf.autograph.experimental.do_not_convert\n",
      "WARNING: AutoGraph could not transform <function Model.make_train_function.<locals>.train_function at 0x000001ABCFCB3438> and will run it as-is.\n",
      "Please report this to the TensorFlow team. When filing the bug, set the verbosity to 10 (on Linux, `export AUTOGRAPH_VERBOSITY=10`) and attach the full output.\n",
      "Cause: 'arguments' object has no attribute 'posonlyargs'\n",
      "To silence this warning, decorate the function with @tf.autograph.experimental.do_not_convert\n",
      "49/49 [==============================] - 429s 9s/step - loss: 0.4799 - accuracy: 0.7954\n",
      "Epoch 2/5\n",
      "49/49 [==============================] - 392s 8s/step - loss: 0.2819 - accuracy: 0.9134\n",
      "Epoch 3/5\n",
      "49/49 [==============================] - 423s 9s/step - loss: 0.2153 - accuracy: 0.9423\n",
      "Epoch 4/5\n",
      "49/49 [==============================] - 421s 9s/step - loss: 0.1863 - accuracy: 0.9436\n",
      "Epoch 5/5\n",
      "49/49 [==============================] - 423s 9s/step - loss: 0.1604 - accuracy: 0.9538\n"
     ]
    },
    {
     "data": {
      "text/plain": [
       "<keras.callbacks.History at 0x1abcfab38c8>"
      ]
     },
     "execution_count": 32,
     "metadata": {},
     "output_type": "execute_result"
    }
   ],
   "source": [
    "model.fit(X_train,y_train,epochs=5)"
   ]
  },
  {
   "cell_type": "code",
   "execution_count": 40,
   "id": "174a80a3",
   "metadata": {},
   "outputs": [],
   "source": [
    "cap=cv2.VideoCapture(0)"
   ]
  },
  {
   "cell_type": "code",
   "execution_count": 1,
   "id": "8b653831",
   "metadata": {},
   "outputs": [
    {
     "ename": "NameError",
     "evalue": "name 'cap' is not defined",
     "output_type": "error",
     "traceback": [
      "\u001b[1;31m---------------------------------------------------------------------------\u001b[0m",
      "\u001b[1;31mNameError\u001b[0m                                 Traceback (most recent call last)",
      "\u001b[1;32mC:\\Users\\BISHAL~1\\AppData\\Local\\Temp/ipykernel_8300/1989041527.py\u001b[0m in \u001b[0;36m<module>\u001b[1;34m\u001b[0m\n\u001b[0;32m      1\u001b[0m \u001b[1;32mwhile\u001b[0m \u001b[1;32mTrue\u001b[0m\u001b[1;33m:\u001b[0m\u001b[1;33m\u001b[0m\u001b[1;33m\u001b[0m\u001b[0m\n\u001b[1;32m----> 2\u001b[1;33m     \u001b[0mret\u001b[0m\u001b[1;33m,\u001b[0m\u001b[0mframe\u001b[0m\u001b[1;33m=\u001b[0m\u001b[0mcap\u001b[0m\u001b[1;33m.\u001b[0m\u001b[0mread\u001b[0m\u001b[1;33m(\u001b[0m\u001b[1;33m)\u001b[0m\u001b[1;33m\u001b[0m\u001b[1;33m\u001b[0m\u001b[0m\n\u001b[0m\u001b[0;32m      3\u001b[0m \u001b[1;33m\u001b[0m\u001b[0m\n\u001b[0;32m      4\u001b[0m     \u001b[0mframe\u001b[0m\u001b[1;33m=\u001b[0m\u001b[0mcv2\u001b[0m\u001b[1;33m.\u001b[0m\u001b[0mresize\u001b[0m\u001b[1;33m(\u001b[0m\u001b[0mframe\u001b[0m\u001b[1;33m,\u001b[0m\u001b[1;33m(\u001b[0m\u001b[1;36m224\u001b[0m\u001b[1;33m,\u001b[0m\u001b[1;36m224\u001b[0m\u001b[1;33m)\u001b[0m\u001b[1;33m)\u001b[0m\u001b[1;33m\u001b[0m\u001b[1;33m\u001b[0m\u001b[0m\n\u001b[0;32m      5\u001b[0m \u001b[1;33m\u001b[0m\u001b[0m\n",
      "\u001b[1;31mNameError\u001b[0m: name 'cap' is not defined"
     ]
    }
   ],
   "source": [
    "while True:\n",
    "    ret,frame=cap.read()\n",
    "   \n",
    "    frame=cv2.resize(frame,(224,224))\n",
    "   \n",
    "    y_pred=detect(frame)\n",
    "    print(y_pred)\n",
    "    draw_label(frame,'MASK DETECTION',(10,30),(255,0,0))\n",
    "    if(y_pred==1):\n",
    "        draw_label(frame,'No MASK ',(60,180),(122,158,46))\n",
    "    elif(y_pred==0):\n",
    "        draw_label(frame,'MASK ',(60,180),(122,158,46))\n",
    " \n",
    "    \n",
    "    cv2.imshow('Window',frame)\n",
    "    cv2.resizeWindow(\"Resized_Window\", 300, 700)\n",
    "    \n",
    "    if(cv2.waitKey(1) & 0xFF == ord('x')):\n",
    "        break\n",
    "cv2.destroyAllWindows()"
   ]
  },
  {
   "cell_type": "code",
   "execution_count": 39,
   "id": "d24faf47",
   "metadata": {},
   "outputs": [],
   "source": [
    "def detect(img):\n",
    "    y_pred=model.predict(img.reshape(1,224,224,3))\n",
    "    classes_x=np.argmax(y_pred,axis=1)\n",
    "    if(y_pred > 0.5):\n",
    "        return 1\n",
    "    else:\n",
    "        return 0"
   ]
  },
  {
   "cell_type": "code",
   "execution_count": 36,
   "id": "4bc2f176",
   "metadata": {},
   "outputs": [],
   "source": [
    "sample=cv2.imread('sample/4.jpg')\n",
    "sample=cv2.resize(sample,(224,224))"
   ]
  },
  {
   "cell_type": "code",
   "execution_count": 37,
   "id": "10aab190",
   "metadata": {},
   "outputs": [
    {
     "name": "stdout",
     "output_type": "stream",
     "text": [
      "WARNING:tensorflow:AutoGraph could not transform <function Model.make_predict_function.<locals>.predict_function at 0x000001ABCFA71A68> and will run it as-is.\n",
      "Please report this to the TensorFlow team. When filing the bug, set the verbosity to 10 (on Linux, `export AUTOGRAPH_VERBOSITY=10`) and attach the full output.\n",
      "Cause: 'arguments' object has no attribute 'posonlyargs'\n",
      "To silence this warning, decorate the function with @tf.autograph.experimental.do_not_convert\n",
      "WARNING: AutoGraph could not transform <function Model.make_predict_function.<locals>.predict_function at 0x000001ABCFA71A68> and will run it as-is.\n",
      "Please report this to the TensorFlow team. When filing the bug, set the verbosity to 10 (on Linux, `export AUTOGRAPH_VERBOSITY=10`) and attach the full output.\n",
      "Cause: 'arguments' object has no attribute 'posonlyargs'\n",
      "To silence this warning, decorate the function with @tf.autograph.experimental.do_not_convert\n"
     ]
    },
    {
     "data": {
      "text/plain": [
       "0"
      ]
     },
     "execution_count": 37,
     "metadata": {},
     "output_type": "execute_result"
    }
   ],
   "source": [
    "detect(sample)"
   ]
  },
  {
   "cell_type": "code",
   "execution_count": 38,
   "id": "e42137bb",
   "metadata": {},
   "outputs": [],
   "source": [
    "def draw_label(img,text,pos,bg_color):\n",
    "    text_size=cv2.getTextSize(text,cv2.FONT_HERSHEY_SIMPLEX,1,cv2.FILLED)\n",
    "    \n",
    "    end_x=pos[0]+text_size[0][0]+2\n",
    "    end_y=pos[1]+text_size[0][1]-2\n",
    "    \n",
    "    cv2.rectangle(img,pos,(end_x,end_y),bg_color,cv2.FILLED)\n",
    "    cv2.putText(img,text,pos,cv2.FONT_HERSHEY_SIMPLEX,1,(0,0,0),1,cv2.LINE_AA)"
   ]
  },
  {
   "cell_type": "code",
   "execution_count": null,
   "id": "2e3136e6",
   "metadata": {},
   "outputs": [],
   "source": [
    "import cv2"
   ]
  },
  {
   "cell_type": "code",
   "execution_count": null,
   "id": "895a2992",
   "metadata": {},
   "outputs": [],
   "source": []
  }
 ],
 "metadata": {
  "kernelspec": {
   "display_name": "Python 3 (ipykernel)",
   "language": "python",
   "name": "python3"
  },
  "language_info": {
   "codemirror_mode": {
    "name": "ipython",
    "version": 3
   },
   "file_extension": ".py",
   "mimetype": "text/x-python",
   "name": "python",
   "nbconvert_exporter": "python",
   "pygments_lexer": "ipython3",
   "version": "3.7.8rc1"
  }
 },
 "nbformat": 4,
 "nbformat_minor": 5
}
